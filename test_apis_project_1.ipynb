{
 "cells": [
  {
   "cell_type": "code",
   "execution_count": 1,
   "metadata": {},
   "outputs": [],
   "source": [
    "import requests\n",
    "from time import sleep"
   ]
  },
  {
   "cell_type": "markdown",
   "metadata": {},
   "source": [
    "## Get Project ID from Project Name"
   ]
  },
  {
   "cell_type": "code",
   "execution_count": 2,
   "metadata": {},
   "outputs": [],
   "source": [
    "api_key = \"api-key\"\n",
    "url = \"https://rml.azure-api.net/aws/projects/\"\n",
    "headers = {\"Ocp-Apim-Subscription-Key\" : api_key}"
   ]
  },
  {
   "cell_type": "code",
   "execution_count": 3,
   "metadata": {},
   "outputs": [],
   "source": [
    "projects_list_url = url + \"list\"\n",
    "response = requests.get(projects_list_url,headers=headers)\n",
    "project_list = response.json()"
   ]
  },
  {
   "cell_type": "code",
   "execution_count": 4,
   "metadata": {},
   "outputs": [
    {
     "data": {
      "text/plain": [
       "[{'projectName': 'gateway_project',\n",
       "  'projectId': '304bd50f-96f7-4980-8855-8f508ad6c083'},\n",
       " {'projectName': 'compute_project',\n",
       "  'projectId': 'a9a6d345-0de8-4df3-ac72-c0b7e4742333'},\n",
       " {'projectName': 'compute_project_2',\n",
       "  'projectId': 'e2ea8b60-b302-421b-9643-b6fe2e001c6b'}]"
      ]
     },
     "execution_count": 4,
     "metadata": {},
     "output_type": "execute_result"
    }
   ],
   "source": [
    "project_list"
   ]
  },
  {
   "cell_type": "code",
   "execution_count": 5,
   "metadata": {},
   "outputs": [],
   "source": [
    "project_name = \"compute_project\"\n",
    "project_id = None\n",
    "for project in project_list:\n",
    "    if project[\"projectName\"] == project_name:\n",
    "        project_id = project[\"projectId\"]\n",
    "        break"
   ]
  },
  {
   "cell_type": "code",
   "execution_count": 6,
   "metadata": {},
   "outputs": [
    {
     "name": "stdout",
     "output_type": "stream",
     "text": [
      "https://rml.azure-api.net/aws/projects/a9a6d345-0de8-4df3-ac72-c0b7e4742333\n"
     ]
    }
   ],
   "source": [
    "project_url = url + project_id\n",
    "print(project_url)"
   ]
  },
  {
   "cell_type": "markdown",
   "metadata": {},
   "source": [
    "## Get Project Status"
   ]
  },
  {
   "cell_type": "code",
   "execution_count": 7,
   "metadata": {},
   "outputs": [],
   "source": [
    "def get_project_status(project_url):\n",
    "    response = requests.get(project_url + \"/status\",headers=headers)\n",
    "    project_status = response.json()[\"projectStatus\"]\n",
    "    return project_status"
   ]
  },
  {
   "cell_type": "code",
   "execution_count": 8,
   "metadata": {},
   "outputs": [
    {
     "name": "stdout",
     "output_type": "stream",
     "text": [
      "OFF\n"
     ]
    }
   ],
   "source": [
    "project_status = get_project_status(project_url)\n",
    "print(project_status)"
   ]
  },
  {
   "cell_type": "markdown",
   "metadata": {},
   "source": [
    "## Turn ON if the project status is OFF"
   ]
  },
  {
   "cell_type": "code",
   "execution_count": 9,
   "metadata": {},
   "outputs": [],
   "source": [
    "if project_status != \"OFF\" or project_status != \"STOPPING\":\n",
    "    response = requests.put(project_url + \"/start\",headers=headers)"
   ]
  },
  {
   "cell_type": "code",
   "execution_count": 10,
   "metadata": {},
   "outputs": [
    {
     "name": "stdout",
     "output_type": "stream",
     "text": [
      "Project Status STARTING\n",
      "Project Status STARTING\n",
      "Project Status STARTING\n",
      "Project Status STARTING\n",
      "Project Status STARTING\n",
      "Project Status STARTING\n",
      "Project Status STARTING\n",
      "Project Status STARTING\n",
      "Project Status STARTING\n",
      "Project Status STARTING\n",
      "Project Status STARTING\n",
      "Project Status STARTING\n",
      "Project Status STARTING\n",
      "Project Status STARTING\n",
      "Project Status STARTING\n",
      "Project Status STARTING\n",
      "Project Status STARTING\n",
      "Project Status STARTING\n",
      "Project Status STARTING\n",
      "Project Status STARTING\n",
      "Project Status STARTING\n",
      "Project Status STARTING\n",
      "Project Status STARTING\n",
      "Project Status STARTING\n",
      "Project Status ON\n"
     ]
    }
   ],
   "source": [
    "sleep_time = 10\n",
    "total_wait_time = 0\n",
    "while total_wait_time < 600:\n",
    "    project_status = get_project_status(project_url)\n",
    "    sleep(10)\n",
    "    total_wait_time += sleep_time\n",
    "    print(\"Project Status %s\"%project_status)\n",
    "    if project_status == \"ON\":\n",
    "        break"
   ]
  },
  {
   "cell_type": "markdown",
   "metadata": {},
   "source": [
    "## Run Commands or Shell Scripts on the compute project and command ID"
   ]
  },
  {
   "cell_type": "code",
   "execution_count": 17,
   "metadata": {},
   "outputs": [
    {
     "data": {
      "text/plain": [
       "{'commandId': 'cf17b952-525d-46ce-a528-bc6981362ee7', 'status': 'InProgress'}"
      ]
     },
     "execution_count": 17,
     "metadata": {},
     "output_type": "execute_result"
    }
   ],
   "source": [
    "commands = {\"commands\" : [\"runuser -u ubuntu -- bash /home/ubuntu/efs/script.sh\", \"runuser -u ubuntu -- ls /home/ubuntu\"]}\n",
    "response = requests.post(project_url + \"/execute\",headers=headers,json=commands)\n",
    "response.json()"
   ]
  },
  {
   "cell_type": "code",
   "execution_count": 18,
   "metadata": {},
   "outputs": [
    {
     "data": {
      "text/plain": [
       "'cf17b952-525d-46ce-a528-bc6981362ee7'"
      ]
     },
     "execution_count": 18,
     "metadata": {},
     "output_type": "execute_result"
    }
   ],
   "source": [
    "command_id = response.json()[\"commandId\"]\n",
    "command_id"
   ]
  },
  {
   "cell_type": "markdown",
   "metadata": {},
   "source": [
    "## Get Command Status"
   ]
  },
  {
   "cell_type": "code",
   "execution_count": 19,
   "metadata": {},
   "outputs": [
    {
     "data": {
      "text/plain": [
       "{'output': ['/usr/local/bin:/home/ubuntu/anaconda3/bin:/home/ubuntu/.local/bin:/usr/local/bin:/home/ubuntu/anaconda3/condabin:/home/ubuntu/anaconda3/bin:/usr/local/cuda/bin:/usr/local/bin:/opt/aws/bin:/usr/local/mpi/bin:/usr/local/cuda/bin:/usr/local/bin:/opt/aws/bin:/home/ubuntu/.dl_binaries/bin:/usr/local/mpi/bin:/opt/aws/neuron/bin:/usr/local/cuda/bin:/usr/local/bin:/opt/aws/bin:/usr/local/mpi/bin:/opt/amazon/openmpi/bin/:/opt/amazon/efa/bin/:/home/ubuntu/anaconda3/bin:/usr/bin:/usr/local/bin:/opt/slurm/bin:/usr/local/sbin:/usr/local/bin:/usr/sbin:/usr/bin:/sbin:/bin:/snap/bin:/opt/slurm/bin/',\n",
       "  'ip-10-0-0-42',\n",
       "  '/home/ubuntu/anaconda3/bin/python',\n",
       "  'LICENSE',\n",
       "  'Nvidia_Cloud_EULA.pdf',\n",
       "  'README',\n",
       "  'anaconda3',\n",
       "  'aws-cfn-bootstrap-2.0',\n",
       "  'azhpc-templates',\n",
       "  'efs',\n",
       "  'examples',\n",
       "  'hostfile',\n",
       "  'sample.txt',\n",
       "  'sample1.txt',\n",
       "  'src',\n",
       "  'tools',\n",
       "  'tutorials'],\n",
       " 'error': ['/home/ubuntu/efs/script.sh: line 6: /home/ubuntu/sample1.txt: Permission denied'],\n",
       " 'status': 'Success'}"
      ]
     },
     "execution_count": 19,
     "metadata": {},
     "output_type": "execute_result"
    }
   ],
   "source": [
    "response = requests.get(project_url + \"/execute/\" + command_id,headers=headers)\n",
    "response.json()"
   ]
  },
  {
   "cell_type": "markdown",
   "metadata": {},
   "source": [
    "## Turn OFF if the project status is ON"
   ]
  },
  {
   "cell_type": "code",
   "execution_count": 20,
   "metadata": {},
   "outputs": [
    {
     "data": {
      "text/plain": [
       "<Response [200]>"
      ]
     },
     "execution_count": 20,
     "metadata": {},
     "output_type": "execute_result"
    }
   ],
   "source": [
    "response = requests.put(project_url + \"/stop\",headers=headers)\n",
    "response"
   ]
  },
  {
   "cell_type": "code",
   "execution_count": 21,
   "metadata": {},
   "outputs": [
    {
     "name": "stdout",
     "output_type": "stream",
     "text": [
      "Project Status STOPPING\n",
      "Project Status STOPPING\n",
      "Project Status STOPPING\n",
      "Project Status STOPPING\n",
      "Project Status STOPPING\n",
      "Project Status STOPPING\n",
      "Project Status STOPPING\n",
      "Project Status STOPPING\n",
      "Project Status STOPPING\n",
      "Project Status STOPPING\n",
      "Project Status STOPPING\n",
      "Project Status STOPPING\n",
      "Project Status OFF\n"
     ]
    }
   ],
   "source": [
    "sleep_time = 10\n",
    "total_wait_time = 0\n",
    "while total_wait_time < 300:\n",
    "    project_status = get_project_status(project_url)\n",
    "    sleep(10)\n",
    "    total_wait_time += sleep_time\n",
    "    print(\"Project Status %s\"%project_status)\n",
    "    if project_status == \"OFF\":\n",
    "        break"
   ]
  },
  {
   "cell_type": "code",
   "execution_count": null,
   "metadata": {},
   "outputs": [],
   "source": []
  }
 ],
 "metadata": {
  "kernelspec": {
   "display_name": "Python 3",
   "language": "python",
   "name": "python3"
  },
  "language_info": {
   "codemirror_mode": {
    "name": "ipython",
    "version": 3
   },
   "file_extension": ".py",
   "mimetype": "text/x-python",
   "name": "python",
   "nbconvert_exporter": "python",
   "pygments_lexer": "ipython3",
   "version": "3.7.6"
  }
 },
 "nbformat": 4,
 "nbformat_minor": 4
}
